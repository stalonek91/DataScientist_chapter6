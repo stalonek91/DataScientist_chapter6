{
 "cells": [
  {
   "cell_type": "code",
   "execution_count": 2,
   "metadata": {},
   "outputs": [],
   "source": [
    "import streamlit as st\n",
    "import pandas as pd\n",
    "from pathlib import Path\n",
    "import matplotlib.pyplot as plt\n",
    "import seaborn as sns\n",
    "\n",
    "#TODO: check if ydataprofiler can be added as HTML\n",
    "\n",
    "csv_file_path = Path('35__welcome_survey_cleaned.csv')\n",
    "df = pd.read_csv(csv_file_path, sep=';')"
   ]
  },
  {
   "cell_type": "code",
   "execution_count": 4,
   "metadata": {},
   "outputs": [
    {
     "data": {
      "text/plain": [
       "edu_level\n",
       "Wyższe        110\n",
       "Średnie        29\n",
       "Podstawowe      1\n",
       "Name: count, dtype: int64"
      ]
     },
     "execution_count": 4,
     "metadata": {},
     "output_type": "execute_result"
    }
   ],
   "source": [
    "df['edu_level'].value_counts()"
   ]
  },
  {
   "cell_type": "code",
   "execution_count": 9,
   "metadata": {},
   "outputs": [
    {
     "data": {
      "text/plain": [
       "age                                      0\n",
       "edu_level                                0\n",
       "fav_animals                              0\n",
       "fav_place                               15\n",
       "gender                                   2\n",
       "hobby_art                                0\n",
       "hobby_books                              0\n",
       "hobby_movies                             0\n",
       "hobby_other                              0\n",
       "hobby_sport                              0\n",
       "hobby_video_games                        0\n",
       "industry                                20\n",
       "learning_pref_books                      0\n",
       "learning_pref_chatgpt                    0\n",
       "learning_pref_offline_courses            0\n",
       "learning_pref_online_courses             0\n",
       "learning_pref_personal_projects          0\n",
       "learning_pref_teaching                   0\n",
       "learning_pref_teamwork                   0\n",
       "learning_pref_workshops                  0\n",
       "motivation_career                        0\n",
       "motivation_challenges                    0\n",
       "motivation_creativity_and_innovation     0\n",
       "motivation_money_and_job                 0\n",
       "motivation_personal_growth               0\n",
       "motivation_remote                        0\n",
       "sweet_or_salty                          10\n",
       "years_of_experience                      2\n",
       "dtype: int64"
      ]
     },
     "execution_count": 9,
     "metadata": {},
     "output_type": "execute_result"
    }
   ],
   "source": [
    "df['age'].value_counts()"
   ]
  }
 ],
 "metadata": {
  "kernelspec": {
   "display_name": "od_zera_do_ai",
   "language": "python",
   "name": "python3"
  },
  "language_info": {
   "codemirror_mode": {
    "name": "ipython",
    "version": 3
   },
   "file_extension": ".py",
   "mimetype": "text/x-python",
   "name": "python",
   "nbconvert_exporter": "python",
   "pygments_lexer": "ipython3",
   "version": "3.11.10"
  }
 },
 "nbformat": 4,
 "nbformat_minor": 2
}
