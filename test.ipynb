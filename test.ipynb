{
 "cells": [
  {
   "cell_type": "code",
   "execution_count": 2,
   "metadata": {},
   "outputs": [],
   "source": [
    "import streamlit as st\n",
    "import pandas as pd\n",
    "from pathlib import Path\n",
    "import matplotlib.pyplot as plt\n",
    "import seaborn as sns\n",
    "\n",
    "#TODO: check if ydataprofiler can be added as HTML\n",
    "\n",
    "csv_file_path = Path('35__welcome_survey_cleaned.csv')\n",
    "df = pd.read_csv(csv_file_path, sep=';')"
   ]
  },
  {
   "cell_type": "code",
   "execution_count": 7,
   "metadata": {},
   "outputs": [
    {
     "data": {
      "text/plain": [
       "Index(['age', 'edu_level', 'fav_animals', 'fav_place', 'gender', 'hobby_art',\n",
       "       'hobby_books', 'hobby_movies', 'hobby_other', 'hobby_sport',\n",
       "       'hobby_video_games', 'industry', 'learning_pref_books',\n",
       "       'learning_pref_chatgpt', 'learning_pref_offline_courses',\n",
       "       'learning_pref_online_courses', 'learning_pref_personal_projects',\n",
       "       'learning_pref_teaching', 'learning_pref_teamwork',\n",
       "       'learning_pref_workshops', 'motivation_career', 'motivation_challenges',\n",
       "       'motivation_creativity_and_innovation', 'motivation_money_and_job',\n",
       "       'motivation_personal_growth', 'motivation_remote', 'sweet_or_salty',\n",
       "       'years_of_experience'],\n",
       "      dtype='object')"
      ]
     },
     "execution_count": 7,
     "metadata": {},
     "output_type": "execute_result"
    }
   ],
   "source": [
    "df['industry']"
   ]
  }
 ],
 "metadata": {
  "kernelspec": {
   "display_name": "od_zera_do_ai",
   "language": "python",
   "name": "python3"
  },
  "language_info": {
   "codemirror_mode": {
    "name": "ipython",
    "version": 3
   },
   "file_extension": ".py",
   "mimetype": "text/x-python",
   "name": "python",
   "nbconvert_exporter": "python",
   "pygments_lexer": "ipython3",
   "version": "3.11.10"
  }
 },
 "nbformat": 4,
 "nbformat_minor": 2
}
